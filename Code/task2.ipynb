{
 "cells": [
  {
   "cell_type": "code",
   "execution_count": 6,
   "metadata": {},
   "outputs": [],
   "source": [
    "# Include libraries which may use in implementation\n",
    "import numpy as np\n",
    "import random\n",
    "import sklearn.datasets as ds\n",
    "import matplotlib.pyplot as plt\n",
    "%matplotlib inline\n"
   ]
  },
  {
   "cell_type": "code",
   "execution_count": 7,
   "metadata": {},
   "outputs": [],
   "source": [
    "# Create a Neural_Network class\n",
    "class Neural_Network(object):        \n",
    "    def __init__(self,inputSize = 2,hiddenlayer = 3, outputSize = 1 ):        \n",
    "        # size of layers\n",
    "        self.inputSize = inputSize\n",
    "        self.outputSize = outputSize \n",
    "        self.hiddenLayer = hiddenlayer\n",
    "        #weights\n",
    "        self.W1 = np.random.randn(self.inputSize, self.hiddenLayer) # randomly initialize W1 using random function of numpy\n",
    "        # size of the wieght will be (inputSize +1, hiddenlayer) that +1 is for bias    \n",
    "        self.W2 = np.random.randn(self.hiddenLayer, self.outputSize) # randomly initialize W2 using random function of numpy\n",
    "        # size of the wieght will be (hiddenlayer +1, outputSize) that +1 is for bias    \n",
    "        self.activation = 'sigmoid'\n",
    "        \n",
    "    def feedforward(self, X):\n",
    "        #forward propagation through our network\n",
    "        # dot product of X (input) and set of weights\n",
    "        # apply activation function (i.e. whatever function was passed in initialization)    \n",
    "        self.z1 = np.dot(X, self.W1)\n",
    "        if self.activation == 'sigmoid':\n",
    "            self.a1 = self.sigmoid(self.z1)\n",
    "        elif self.activation == 'tanh':\n",
    "            self.a1 = self.tanh(self.z1)\n",
    "        elif self.activation == 'relu':\n",
    "            self.a1 = self.relu(self.z1)\n",
    "\n",
    "        self.z2 = np.dot(self.a1, self.W2)\n",
    "        y_pred = self.sigmoid(self.z2)\n",
    "        #reshaping\n",
    "        #y_pred = y_pred.reshape(-1,1)\n",
    "        return y_pred # return your answer with as a final output of the network\n",
    "\n",
    "    def sigmoid(self, s):\n",
    "        # activation function\n",
    "        return (1 / (1 + np.exp(-s))) # apply sigmoid function on s and return it's value\n",
    "\n",
    "    def sigmoid_derivative(self, s):\n",
    "        #derivative of sigmoid\n",
    "        return s * (1 - s) # apply derivative of sigmoid on s and return it's value \n",
    "    \n",
    "    def tanh(self, s):\n",
    "        # activation function\n",
    "        return np.tanh(s) # apply tanh function on s and return it's value\n",
    "\n",
    "    def tanh_derivative(self, s):\n",
    "        #derivative of tanh\n",
    "        return 1 - np.tanh(s) ** 2 # apply derivative of tanh on s and return it's value\n",
    "    \n",
    "    def relu(self, s):\n",
    "        # activation function\n",
    "        return np.maximum(0, s) # apply relu function on s and return it's value\n",
    "\n",
    "    def relu_derivative(self, s):\n",
    "        #derivative of relu\n",
    "        s[s <= 0] = 0\n",
    "        s[s > 0] = 1\n",
    "        return s # apply derivative of relu on s and return it's value\n",
    "\n",
    "    def backwardpropagate(self,X, Y, y_pred, lr):\n",
    "        # backward propagate through the network\n",
    "        # compute error in output which is loss compute cross entropy loss function\n",
    "        # applying derivative of that applied activation function to the error\n",
    "        # adjust set of weights\n",
    "        #delta2 = (Y - y_pred) * self.sigmoid_derivative(y_pred)\n",
    "        \n",
    "        if self.activation == 'sigmoid':\n",
    "            delta2 = (Y - y_pred) * self.sigmoid_derivative(y_pred)\n",
    "            #delta2 = np.expand_dims(Y - y_pred, 1) * self.sigmoid_derivative(y_pred)\n",
    "        elif self.activation == 'tanh':\n",
    "            delta2 = (Y - y_pred) * self.tanh_derivative(y_pred)\n",
    "            #delta2 = np.expand_dims(Y - y_pred, 1) * self.tanh_derivative(y_pred)\n",
    "        elif self.activation == 'relu':\n",
    "            delta2 = (Y - y_pred) * self.relu_derivative(y_pred)\n",
    "            #delta2 = np.expand_dims(Y - y_pred, 1) * self.relu_derivative(y_pred)\n",
    "\n",
    "        dW2 = np.dot(self.z2.T, delta2)\n",
    "        db2 = np.sum(delta2, axis=0, keepdims=True)\n",
    "\n",
    "        print(delta2.shape)\n",
    "        print(self.W2.shape)\n",
    "\n",
    "        delta1 = np.dot(delta2, self.W2.T)\n",
    "        # Compute delta1 using chain rule and the appropriate derivative based on the activation\n",
    "\n",
    "        if self.activation == 'sigmoid':\n",
    "            delta1 = np.dot(delta2, self.W2.T) * self.sigmoid_derivative(self.a1)\n",
    "        elif self.activation == 'tanh':\n",
    "            delta1 = np.dot(delta2, self.W2.T) * self.tanh_derivative(self.z1)\n",
    "        elif self.activation == 'relu':\n",
    "            delta1 = np.dot(delta2, self.W2.T) * np.transpose(self.relu_derivative(self.z1))\n",
    "\n",
    "        dW1 = np.dot(X.T, delta1) \n",
    "        #dW1 = dW1.sum(axis=1, keepdims=True).T # Added this line\n",
    "        #dW1 = dW1.reshape(700, 1) # Added this\n",
    "        db1 = np.sum(delta1, axis=0, keepdims=True) \n",
    "\n",
    "        # Update weights and biases\n",
    "        self.W1 += lr * dW1\n",
    "        self.W2 += lr * dW2\n",
    "\n",
    "        #delta2 = delta2.reshape(-1,1)\n",
    "        delta1 = np.dot(delta2, self.W2.T)\n",
    "\n",
    "\n",
    "    def crossentropy(self, Y, Y_pred):\n",
    "        # compute error based on crossentropy loss \n",
    "        epsilon = 1e-15\n",
    "        Y_pred = np.clip(Y_pred, epsilon, 1 - epsilon)\n",
    "        error = - (Y * np.log(Y_pred) + (1 - Y) * np.log(1 - Y_pred))\n",
    "        return np.mean(error) #error\n",
    "\n",
    "    def train(self, trainX, trainY,epochs = 100, learningRate = 0.001, plot_err = True ,validationX = None, validationY = None):\n",
    "        # feed forward trainX and trainY and recivce predicted value\n",
    "        # backpropagation with trainX, trainY, predicted value and learning rate.\n",
    "        # if validationX and validationY are not null than show validation accuracy and error of the model by printing values.\n",
    "        # plot error of the model if plot_err is true\n",
    "        train_loss = []\n",
    "        valid_loss = []\n",
    "\n",
    "        for epoch in range(epochs):\n",
    "            # Forward pass\n",
    "            y_pred = self.feedforward(trainX)\n",
    "\n",
    "            # Compute and store the training loss\n",
    "            loss = self.crossentropy(trainY, y_pred)\n",
    "            train_loss.append(loss)\n",
    "\n",
    "            # Backpropagation and weight update\n",
    "            self.backwardpropagate(trainX, trainY, y_pred, learningRate)\n",
    "\n",
    "            # Validation loss\n",
    "            if validationX is not None and validationY is not None:\n",
    "                y_valid_pred = self.feedforward(validationX)\n",
    "                valid_loss.append(self.crossentropy(validationY, y_valid_pred))\n",
    "\n",
    "        if plot_err:\n",
    "            plt.plot(range(epochs), train_loss, label='Training Loss')\n",
    "            if validationX is not None and validationY is not None:\n",
    "                plt.plot(range(epochs), valid_loss, label='Validation Loss')\n",
    "            plt.xlabel('Epochs')\n",
    "            plt.ylabel('Cross-Entropy Loss')\n",
    "            plt.legend()\n",
    "            plt.show()\n",
    "\n",
    "    def predict(self, testX):\n",
    "        # predict the value of testX\n",
    "        return self.feedforward(testX)\n",
    "    \n",
    "    def accuracy(self, testX, testY):\n",
    "        # predict the value of trainX\n",
    "        # compare it with testY\n",
    "        # compute accuracy, print it and show in the form of picture\n",
    "        y_pred = self.feedforward(testX)\n",
    "        y_pred = np.round(y_pred)\n",
    "        accuracy = np.mean(y_pred == testY)\n",
    "        return accuracy # return accuracy    \n",
    "        \n",
    "    def saveModel(self,name):\n",
    "        # save your trained model, it is your interpretation how, which and what data you store\n",
    "        # which you will use later for prediction\n",
    "        model_data = {\n",
    "            'inputSize': self.inputSize,\n",
    "            'outputSize': self.outputSize,\n",
    "            'hiddenLayer': self.hiddenLayer,\n",
    "            'activation': self.activation,\n",
    "            'W1': self.W1,\n",
    "            'W2': self.W2\n",
    "        }\n",
    "        np.save(name, model_data)\n",
    "        \n",
    "    def loadModel(self,name):\n",
    "        # load your trained model, load exactly how you stored it.\n",
    "        model_data = np.load(name, allow_pickle=True)\n",
    "        self.inputSize = model_data.item().get('inputSize')\n",
    "        self.outputSize = model_data.item().get('outputSize')\n",
    "        self.hiddenLayer = model_data.item().get('hiddenLayer')\n",
    "        self.activation = model_data.item().get('activation')\n",
    "        self.W1 = model_data.item().get('W1')\n",
    "        self.W2 = model_data.item().get('W2')\n",
    "    \n"
   ]
  },
  {
   "cell_type": "code",
   "execution_count": 8,
   "metadata": {},
   "outputs": [
    {
     "data": {
      "image/png": "[encoded data removed]",
      "text/plain": [
       "<Figure size 640x480 with 1 Axes>"
      ]
     },
     "metadata": {},
     "output_type": "display_data"
    }
   ],
   "source": [
    "data, label = ds.make_circles(n_samples=1000, factor=.4, noise=0.05)\n",
    "\n",
    "#Lets visualize the dataset\n",
    "reds = label == 0\n",
    "blues = label == 1\n",
    "plt.scatter(data[reds, 0], data[reds, 1], c=\"red\", s=20, edgecolor='k')\n",
    "plt.scatter(data[blues, 0], data[blues, 1], c=\"blue\", s=20, edgecolor='k')\n",
    "plt.show()\n"
   ]
  },
  {
   "cell_type": "markdown",
   "metadata": {},
   "source": []
  },
  {
   "cell_type": "code",
   "execution_count": 9,
   "metadata": {},
   "outputs": [],
   "source": [
    "\n",
    "#Note: shuffle this dataset before dividing it into three parts\n",
    "np.random.seed(42)  # Set a random seed for reproducibility\n",
    "indices = np.arange(data.shape[0])\n",
    "np.random.shuffle(indices)\n",
    "\n",
    "shuffled_data = data[indices]\n",
    "shuffled_label = label[indices]\n",
    "\n",
    "train_ratio = 0.7\n",
    "valid_ratio = 0.15\n",
    "test_ratio = 0.15\n",
    "train_size = int(train_ratio * shuffled_data.shape[0])\n",
    "valid_size = int(valid_ratio * shuffled_data.shape[0])\n",
    "\n",
    "# Distribute this data into three parts i.e. training, validation and testing\n",
    "trainX = shuffled_data[:train_size]# training data point\n",
    "trainY = shuffled_label[:train_size]# training lables\n",
    "\n",
    "validX = shuffled_data[train_size:train_size + valid_size] # validation data point\n",
    "validY = shuffled_label[train_size:train_size + valid_size]# validation lables\n",
    "\n",
    "testX = shuffled_data[train_size + valid_size:]# testing data point\n",
    "testY = shuffled_label[train_size + valid_size:]# testing lables\n",
    "\n",
    "\n"
   ]
  },
  {
   "cell_type": "code",
   "execution_count": 10,
   "metadata": {},
   "outputs": [
    {
     "name": "stdout",
     "output_type": "stream",
     "text": [
      "(700, 1)\n",
      "(1, 1)\n"
     ]
    }
   ],
   "source": [
    "model = Neural_Network(2,1)\n",
    "\n",
    "sample_X = np.random.randn(700, 2)  \n",
    "sample_Y = np.random.randn(700, 1)  \n",
    "\n",
    "\n",
    "sample_y_pred = model.feedforward(sample_X)\n",
    "\n",
    "model.backwardpropagate(sample_X, sample_Y, sample_y_pred, lr=0.001)\n"
   ]
  },
  {
   "cell_type": "code",
   "execution_count": 11,
   "metadata": {},
   "outputs": [
    {
     "name": "stdout",
     "output_type": "stream",
     "text": [
      "(2, 100)\n",
      "(100, 1)\n"
     ]
    }
   ],
   "source": [
    "model = Neural_Network(2,100)\n",
    "# try different combinations of epochs and learning rate\n",
    "print(model.W1.shape)\n",
    "print(model.W2.shape)\n",
    "#model.train(trainX, trainY, epochs = 150, learningRate = 0.001, validationX = validX, validationY = validY)"
   ]
  },
  {
   "cell_type": "code",
   "execution_count": 12,
   "metadata": {},
   "outputs": [],
   "source": [
    "#save the best model which you have trained, \n",
    "model.saveModel('bestmodel2.mdl')"
   ]
  },
  {
   "cell_type": "markdown",
   "metadata": {},
   "source": [
    "#### Note: This below section will be used for the evaluation of this task, we need your model and we will run script below to evaluated your model"
   ]
  },
  {
   "cell_type": "code",
   "execution_count": 14,
   "metadata": {},
   "outputs": [
    {
     "data": {
      "text/plain": [
       "0.46"
      ]
     },
     "execution_count": 14,
     "metadata": {},
     "output_type": "execute_result"
    }
   ],
   "source": [
    "# create class object\n",
    "mm = Neural_Network()\n",
    "# load model which will be provided by you\n",
    "mm.loadModel('bestmodel2.mdl')\n",
    "# check accuracy of that model\n",
    "mm.accuracy(testX,testY)\n",
    "\n",
    "\n"
   ]
  },
  {
   "cell_type": "code",
   "execution_count": null,
   "metadata": {},
   "outputs": [],
   "source": []
  }
 ],
 "metadata": {
  "kernelspec": {
   "display_name": "Python 3",
   "language": "python",
   "name": "python3"
  },
  "language_info": {
   "codemirror_mode": {
    "name": "ipython",
    "version": 3
   },
   "file_extension": ".py",
   "mimetype": "text/x-python",
   "name": "python",
   "nbconvert_exporter": "python",
   "pygments_lexer": "ipython3",
   "version": "3.9.6"
  }
 },
 "nbformat": 4,
 "nbformat_minor": 2
}
